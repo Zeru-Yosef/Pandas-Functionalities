{
 "cells": [
  {
   "cell_type": "code",
   "execution_count": 1,
   "metadata": {},
   "outputs": [
    {
     "name": "stdout",
     "output_type": "stream",
     "text": [
      "   PassengerId  Survived  Pclass  \\\n",
      "0            1         0       3   \n",
      "1            2         1       1   \n",
      "2            3         1       3   \n",
      "3            4         1       1   \n",
      "4            5         0       3   \n",
      "\n",
      "                                                Name     Sex   Age  SibSp  \\\n",
      "0                            Braund, Mr. Owen Harris    male  22.0      1   \n",
      "1  Cumings, Mrs. John Bradley (Florence Briggs Th...  female  38.0      1   \n",
      "2                             Heikkinen, Miss. Laina  female  26.0      0   \n",
      "3       Futrelle, Mrs. Jacques Heath (Lily May Peel)  female  35.0      1   \n",
      "4                           Allen, Mr. William Henry    male  35.0      0   \n",
      "\n",
      "   Parch            Ticket     Fare Cabin Embarked  \n",
      "0      0         A/5 21171   7.2500   NaN        S  \n",
      "1      0          PC 17599  71.2833   C85        C  \n",
      "2      0  STON/O2. 3101282   7.9250   NaN        S  \n",
      "3      0            113803  53.1000  C123        S  \n",
      "4      0            373450   8.0500   NaN        S  \n",
      "(891, 12)\n"
     ]
    }
   ],
   "source": [
    "#Import Pandas Library\n",
    "import pandas as pd\n",
    "#Import titanic data  downloaded from https://raw.githubusercontent.com/pandas-dev/pandas/master/doc/data/titanic.csv in to pandas dataframe\n",
    "TITANIC = pd.read_csv(\"C:/Users/Yosef/OneDrive - cumc.columbia.edu/Desktop/titanic.csv\")\n",
    "#Make sure that it is imported correctly by reviewing the first few raws of the data fram\n",
    "print(TITANIC.head())\n",
    "print(TITANIC.shape)"
   ]
  },
  {
   "cell_type": "code",
   "execution_count": 2,
   "metadata": {},
   "outputs": [
    {
     "name": "stdout",
     "output_type": "stream",
     "text": [
      "     PassengerId  Survived  Pclass                                      Name  \\\n",
      "881          882         0       3                        Markun, Mr. Johann   \n",
      "882          883         0       3              Dahlberg, Miss. Gerda Ulrika   \n",
      "883          884         0       2             Banfield, Mr. Frederick James   \n",
      "884          885         0       3                    Sutehall, Mr. Henry Jr   \n",
      "885          886         0       3      Rice, Mrs. William (Margaret Norton)   \n",
      "886          887         0       2                     Montvila, Rev. Juozas   \n",
      "887          888         1       1              Graham, Miss. Margaret Edith   \n",
      "888          889         0       3  Johnston, Miss. Catherine Helen \"Carrie\"   \n",
      "889          890         1       1                     Behr, Mr. Karl Howell   \n",
      "890          891         0       3                       Dooley, Mr. Patrick   \n",
      "\n",
      "        Sex   Age  SibSp  Parch            Ticket     Fare Cabin Embarked  \n",
      "881    male  33.0      0      0            349257   7.8958   NaN        S  \n",
      "882  female  22.0      0      0              7552  10.5167   NaN        S  \n",
      "883    male  28.0      0      0  C.A./SOTON 34068  10.5000   NaN        S  \n",
      "884    male  25.0      0      0   SOTON/OQ 392076   7.0500   NaN        S  \n",
      "885  female  39.0      0      5            382652  29.1250   NaN        Q  \n",
      "886    male  27.0      0      0            211536  13.0000   NaN        S  \n",
      "887  female  19.0      0      0            112053  30.0000   B42        S  \n",
      "888  female   NaN      1      2        W./C. 6607  23.4500   NaN        S  \n",
      "889    male  26.0      0      0            111369  30.0000  C148        C  \n",
      "890    male  32.0      0      0            370376   7.7500   NaN        Q  \n"
     ]
    }
   ],
   "source": [
    "#displaying the last 10 rows of TITANIC Data Frame\n",
    "print(TITANIC.tail(10))"
   ]
  },
  {
   "cell_type": "code",
   "execution_count": 3,
   "metadata": {},
   "outputs": [
    {
     "name": "stdout",
     "output_type": "stream",
     "text": [
      "<class 'pandas.core.frame.DataFrame'>\n",
      "RangeIndex: 891 entries, 0 to 890\n",
      "Data columns (total 12 columns):\n",
      " #   Column       Non-Null Count  Dtype  \n",
      "---  ------       --------------  -----  \n",
      " 0   PassengerId  891 non-null    int64  \n",
      " 1   Survived     891 non-null    int64  \n",
      " 2   Pclass       891 non-null    int64  \n",
      " 3   Name         891 non-null    object \n",
      " 4   Sex          891 non-null    object \n",
      " 5   Age          714 non-null    float64\n",
      " 6   SibSp        891 non-null    int64  \n",
      " 7   Parch        891 non-null    int64  \n",
      " 8   Ticket       891 non-null    object \n",
      " 9   Fare         891 non-null    float64\n",
      " 10  Cabin        204 non-null    object \n",
      " 11  Embarked     889 non-null    object \n",
      "dtypes: float64(2), int64(5), object(5)\n",
      "memory usage: 83.7+ KB\n",
      "None\n"
     ]
    }
   ],
   "source": [
    "#Extract more detailed Information about the dataframe\n",
    "print(TITANIC.info())"
   ]
  },
  {
   "cell_type": "code",
   "execution_count": 21,
   "metadata": {},
   "outputs": [
    {
     "name": "stdout",
     "output_type": "stream",
     "text": [
      "              Age\n",
      "Pclass           \n",
      "1       38.233441\n",
      "2       29.877630\n",
      "3       25.140620\n"
     ]
    }
   ],
   "source": [
    "#Create pivot table\n",
    "Age_Sex = pd.pivot_table(TITANIC, values=[\"Age\"], index=[\"Pclass\"], aggfunc='mean')\n",
    "print(Age_Sex)"
   ]
  },
  {
   "cell_type": "code",
   "execution_count": 23,
   "metadata": {},
   "outputs": [
    {
     "name": "stdout",
     "output_type": "stream",
     "text": [
      "              Age       Fare\n",
      "Pclass                      \n",
      "1       38.233441  84.154687\n",
      "2       29.877630  20.662183\n",
      "3       25.140620  13.675550\n"
     ]
    }
   ],
   "source": [
    "#Create pivot table\n",
    "Age_Sex_1 = pd.pivot_table(TITANIC, values=[\"Age\", \"Fare\"], index=[\"Pclass\"], aggfunc='mean')\n",
    "print(Age_Sex_1)"
   ]
  },
  {
   "cell_type": "code",
   "execution_count": 25,
   "metadata": {},
   "outputs": [
    {
     "name": "stdout",
     "output_type": "stream",
     "text": [
      "              Age       Fare\n",
      "Pclass                      \n",
      "1       38.233441  84.154687\n",
      "2       29.877630  20.662183\n",
      "3       25.140620  13.675550\n",
      "Total   29.699118  34.694514\n"
     ]
    }
   ],
   "source": [
    "#Create pivot table....Let us add margins name\n",
    "Age_Sex_2 = pd.pivot_table(TITANIC, values=[\"Age\", \"Fare\"], index=[\"Pclass\"], aggfunc='mean', margins=True, margins_name='Total')\n",
    "print(Age_Sex_2)"
   ]
  },
  {
   "cell_type": "code",
   "execution_count": 6,
   "metadata": {},
   "outputs": [
    {
     "name": "stdout",
     "output_type": "stream",
     "text": [
      "      video_id trending_date  \\\n",
      "0  Ro6eob0LrCY      17.14.11   \n",
      "1  Yo84eqYwP98      17.14.11   \n",
      "2  ceqntSXE-10      17.14.11   \n",
      "3  WuTFI5qftCE      17.14.11   \n",
      "4  ee6OFs8TdEg      17.14.11   \n",
      "\n",
      "                                               title        channel_title  \\\n",
      "0           Malika LePen : Femme de Gauche - Trailer  Le Raptor Dissident   \n",
      "1  LA PIRE PARTIE ft Le Rire Jaune, Pierre Croce,...              Le Labo   \n",
      "2  DESSINS ANIMÉS FRANÇAIS VS RUSSES 2 - Daniil...      Daniil le Russe   \n",
      "3                    PAPY GRENIER - METAL GEAR SOLID    Joueur Du Grenier   \n",
      "4  QUI SAUTERA LE PLUS HAUT ? (VÉLO SKATE ROLLER ...    Aurelien Fontenoy   \n",
      "\n",
      "   category_id              publish_time  \\\n",
      "0           24  2017-11-13T17:32:55.000Z   \n",
      "1           24  2017-11-12T15:00:02.000Z   \n",
      "2           23  2017-11-13T17:00:38.000Z   \n",
      "3           20  2017-11-12T17:00:02.000Z   \n",
      "4           17  2017-11-13T16:30:03.000Z   \n",
      "\n",
      "                                                tags   views  likes  dislikes  \\\n",
      "0  Raptor\"|\"Dissident\"|\"Expliquez\"|\"moi\"|\"cette\"|...  212702  29282      1108   \n",
      "1                                             [none]  432721  14053       576   \n",
      "2      cartoon\"|\"pokémon\"|\"école\"|\"ours\"|\"мультфильм  482153  76203       477   \n",
      "3  Papy grenier\"|\"Metal Gear Solid\"|\"PS1\"|\"Tirage...  925222  85016       550   \n",
      "4  vélo\"|\"vtt\"|\"bmx\"|\"freestyle\"|\"bike\"|\"mtb\"|\"di...  141695   8091        72   \n",
      "\n",
      "   comment_count                                  thumbnail_link  \\\n",
      "0           3817  https://i.ytimg.com/vi/Ro6eob0LrCY/default.jpg   \n",
      "1           1161  https://i.ytimg.com/vi/Yo84eqYwP98/default.jpg   \n",
      "2           9580  https://i.ytimg.com/vi/ceqntSXE-10/default.jpg   \n",
      "3           4303  https://i.ytimg.com/vi/WuTFI5qftCE/default.jpg   \n",
      "4            481  https://i.ytimg.com/vi/ee6OFs8TdEg/default.jpg   \n",
      "\n",
      "   comments_disabled  ratings_disabled  video_error_or_removed  \\\n",
      "0              False             False                   False   \n",
      "1              False             False                   False   \n",
      "2              False             False                   False   \n",
      "3              False             False                   False   \n",
      "4              False             False                   False   \n",
      "\n",
      "                                         description  \n",
      "0  Dimanche.\\n18h30.\\nSoyez présents pour la vidé...  \n",
      "1  Le jeu de société: https://goo.gl/hhG1Ta\\n\\nGa...  \n",
      "2  Une nouvelle dose de dessins animés français e...  \n",
      "3  Nouvel ,épisode de Papy Grenier ! Ce mois-ci o...  \n",
      "4  Sauts à plus de 4 mètres de haut dans un tramp...  \n",
      "      video_id trending_date  \\\n",
      "0  Jw1Y-zhQURU      17.14.11   \n",
      "1  3s1rvMFUweQ      17.14.11   \n",
      "2  n1WpP7iowLc      17.14.11   \n",
      "3  PUTEiSjKwJU      17.14.11   \n",
      "4  rHwDegptbI4      17.14.11   \n",
      "\n",
      "                                               title  \\\n",
      "0      John Lewis Christmas Ad 2017 - #MozTheMonster   \n",
      "1          Taylor Swift: …Ready for It? (Live) - SNL   \n",
      "2         Eminem - Walk On Water (Audio) ft. Beyoncé   \n",
      "3  Goals from Salford City vs Class of 92 and Fri...   \n",
      "4  Dashcam captures truck's near miss with child ...   \n",
      "\n",
      "                channel_title  category_id              publish_time  \\\n",
      "0                  John Lewis           26  2017-11-10T07:38:29.000Z   \n",
      "1         Saturday Night Live           24  2017-11-12T06:24:44.000Z   \n",
      "2                  EminemVEVO           10  2017-11-10T17:00:03.000Z   \n",
      "3  Salford City Football Club           17  2017-11-13T02:30:38.000Z   \n",
      "4            Cute Girl Videos           25  2017-11-13T01:45:13.000Z   \n",
      "\n",
      "                                                tags     views   likes  \\\n",
      "0  christmas|\"john lewis christmas\"|\"john lewis\"|...   7224515   55681   \n",
      "1  SNL|\"Saturday Night Live\"|\"SNL Season 43\"|\"Epi...   1053632   25561   \n",
      "2  Eminem|\"Walk\"|\"On\"|\"Water\"|\"Aftermath/Shady/In...  17158579  787420   \n",
      "3  Salford City FC|\"Salford City\"|\"Salford\"|\"Clas...     27833     193   \n",
      "4                                             [none]      9815      30   \n",
      "\n",
      "   dislikes  comment_count                                  thumbnail_link  \\\n",
      "0     10247           9479  https://i.ytimg.com/vi/Jw1Y-zhQURU/default.jpg   \n",
      "1      2294           2757  https://i.ytimg.com/vi/3s1rvMFUweQ/default.jpg   \n",
      "2     43420         125882  https://i.ytimg.com/vi/n1WpP7iowLc/default.jpg   \n",
      "3        12             37  https://i.ytimg.com/vi/PUTEiSjKwJU/default.jpg   \n",
      "4         2             30  https://i.ytimg.com/vi/rHwDegptbI4/default.jpg   \n",
      "\n",
      "   comments_disabled  ratings_disabled  video_error_or_removed  \\\n",
      "0              False             False                   False   \n",
      "1              False             False                   False   \n",
      "2              False             False                   False   \n",
      "3              False             False                   False   \n",
      "4              False             False                   False   \n",
      "\n",
      "                                         description  \n",
      "0  Click here to continue the story and make your...  \n",
      "1  Musical guest Taylor Swift performs …Ready for...  \n",
      "2  Eminem's new track Walk on Water ft. Beyoncé i...  \n",
      "3  Salford drew 4-4 against the Class of 92 and F...  \n",
      "4  Dashcam captures truck's near miss with child ...  \n",
      "(40724, 16)\n",
      "(38916, 16)\n"
     ]
    }
   ],
   "source": [
    "import pandas as pd\n",
    "VIDEO_1 = pd.read_csv(r\"C:\\Users\\Yosef\\OneDrive - cumc.columbia.edu\\Desktop\\DATA\\FRvideos.csv\")\n",
    "VIDEO_2 = pd.read_csv(r\"C:\\Users\\Yosef\\OneDrive - cumc.columbia.edu\\Desktop\\DATA\\GBvideos.csv\")\n",
    "print(VIDEO_1.head())\n",
    "print(VIDEO_2.head())\n",
    "print(VIDEO_1.shape)\n",
    "print(VIDEO_2.shape)"
   ]
  },
  {
   "cell_type": "code",
   "execution_count": 8,
   "metadata": {},
   "outputs": [
    {
     "name": "stdout",
     "output_type": "stream",
     "text": [
      "      video_id trending_date_1                                     title_1  \\\n",
      "0  n1WpP7iowLc        17.14.11  Eminem - Walk On Water (Audio) ft. Beyoncé   \n",
      "1  n1WpP7iowLc        17.14.11  Eminem - Walk On Water (Audio) ft. Beyoncé   \n",
      "2  n1WpP7iowLc        17.14.11  Eminem - Walk On Water (Audio) ft. Beyoncé   \n",
      "3  n1WpP7iowLc        17.14.11  Eminem - Walk On Water (Audio) ft. Beyoncé   \n",
      "4  n1WpP7iowLc        17.14.11  Eminem - Walk On Water (Audio) ft. Beyoncé   \n",
      "\n",
      "  channel_title_1  category_id_1            publish_time_1  \\\n",
      "0      EminemVEVO             10  2017-11-10T17:00:03.000Z   \n",
      "1      EminemVEVO             10  2017-11-10T17:00:03.000Z   \n",
      "2      EminemVEVO             10  2017-11-10T17:00:03.000Z   \n",
      "3      EminemVEVO             10  2017-11-10T17:00:03.000Z   \n",
      "4      EminemVEVO             10  2017-11-10T17:00:03.000Z   \n",
      "\n",
      "                                              tags_1   views_1  likes_1  \\\n",
      "0  Eminem\"|\"Walk\"|\"On\"|\"Water\"|\"Aftermath/Shady/I...  17158579   787425   \n",
      "1  Eminem\"|\"Walk\"|\"On\"|\"Water\"|\"Aftermath/Shady/I...  17158579   787425   \n",
      "2  Eminem\"|\"Walk\"|\"On\"|\"Water\"|\"Aftermath/Shady/I...  17158579   787425   \n",
      "3  Eminem\"|\"Walk\"|\"On\"|\"Water\"|\"Aftermath/Shady/I...  17158579   787425   \n",
      "4  Eminem\"|\"Walk\"|\"On\"|\"Water\"|\"Aftermath/Shady/I...  17158579   787425   \n",
      "\n",
      "   dislikes_1  ...                                             tags_2  \\\n",
      "0       43420  ...  Eminem|\"Walk\"|\"On\"|\"Water\"|\"Aftermath/Shady/In...   \n",
      "1       43420  ...  Eminem|\"Walk\"|\"On\"|\"Water\"|\"Aftermath/Shady/In...   \n",
      "2       43420  ...  Eminem|\"Walk\"|\"On\"|\"Water\"|\"Aftermath/Shady/In...   \n",
      "3       43420  ...  Eminem|\"Walk\"|\"On\"|\"Water\"|\"Aftermath/Shady/In...   \n",
      "4       43420  ...  Eminem|\"Walk\"|\"On\"|\"Water\"|\"Aftermath/Shady/In...   \n",
      "\n",
      "    views_2  likes_2  dislikes_2  comment_count_2  \\\n",
      "0  17158579   787420       43420           125882   \n",
      "1  20539417   840642       47715           124236   \n",
      "2  22702386   869304       50018           123227   \n",
      "3  24578152   891283       51977           125444   \n",
      "4  26448434   911883       53873           127481   \n",
      "\n",
      "                                 thumbnail_link_2 comments_disabled_2  \\\n",
      "0  https://i.ytimg.com/vi/n1WpP7iowLc/default.jpg               False   \n",
      "1  https://i.ytimg.com/vi/n1WpP7iowLc/default.jpg               False   \n",
      "2  https://i.ytimg.com/vi/n1WpP7iowLc/default.jpg               False   \n",
      "3  https://i.ytimg.com/vi/n1WpP7iowLc/default.jpg               False   \n",
      "4  https://i.ytimg.com/vi/n1WpP7iowLc/default.jpg               False   \n",
      "\n",
      "  ratings_disabled_2 video_error_or_removed_2  \\\n",
      "0              False                    False   \n",
      "1              False                    False   \n",
      "2              False                    False   \n",
      "3              False                    False   \n",
      "4              False                    False   \n",
      "\n",
      "                                       description_2  \n",
      "0  Eminem's new track Walk on Water ft. Beyoncé i...  \n",
      "1  Eminem's new track Walk on Water ft. Beyoncé i...  \n",
      "2  Eminem's new track Walk on Water ft. Beyoncé i...  \n",
      "3  Eminem's new track Walk on Water ft. Beyoncé i...  \n",
      "4  Eminem's new track Walk on Water ft. Beyoncé i...  \n",
      "\n",
      "[5 rows x 31 columns]\n",
      "(15838, 31)\n"
     ]
    }
   ],
   "source": [
    "#Merge the data frames by columns which are common for both \n",
    "VIDEO_1_2 = VIDEO_1.merge(VIDEO_2, how=\"inner\", on=\"video_id\", suffixes=(\"_1\", \"_2\"))\n",
    "print(VIDEO_1_2.head())\n",
    "print(VIDEO_1_2.shape)"
   ]
  },
  {
   "cell_type": "code",
   "execution_count": 15,
   "metadata": {},
   "outputs": [
    {
     "name": "stdout",
     "output_type": "stream",
     "text": [
      "      video_id trending_date_1  \\\n",
      "0  Ro6eob0LrCY        17.14.11   \n",
      "1  Yo84eqYwP98        17.14.11   \n",
      "2  ceqntSXE-10        17.14.11   \n",
      "3  WuTFI5qftCE        17.14.11   \n",
      "4  ee6OFs8TdEg        17.14.11   \n",
      "\n",
      "                                             title_1      channel_title_1  \\\n",
      "0           Malika LePen : Femme de Gauche - Trailer  Le Raptor Dissident   \n",
      "1  LA PIRE PARTIE ft Le Rire Jaune, Pierre Croce,...              Le Labo   \n",
      "2  DESSINS ANIMÉS FRANÇAIS VS RUSSES 2 - Daniil...      Daniil le Russe   \n",
      "3                    PAPY GRENIER - METAL GEAR SOLID    Joueur Du Grenier   \n",
      "4  QUI SAUTERA LE PLUS HAUT ? (VÉLO SKATE ROLLER ...    Aurelien Fontenoy   \n",
      "\n",
      "   category_id_1            publish_time_1  \\\n",
      "0             24  2017-11-13T17:32:55.000Z   \n",
      "1             24  2017-11-12T15:00:02.000Z   \n",
      "2             23  2017-11-13T17:00:38.000Z   \n",
      "3             20  2017-11-12T17:00:02.000Z   \n",
      "4             17  2017-11-13T16:30:03.000Z   \n",
      "\n",
      "                                              tags_1  views_1  likes_1  \\\n",
      "0  Raptor\"|\"Dissident\"|\"Expliquez\"|\"moi\"|\"cette\"|...   212702    29282   \n",
      "1                                             [none]   432721    14053   \n",
      "2      cartoon\"|\"pokémon\"|\"école\"|\"ours\"|\"мультфильм   482153    76203   \n",
      "3  Papy grenier\"|\"Metal Gear Solid\"|\"PS1\"|\"Tirage...   925222    85016   \n",
      "4  vélo\"|\"vtt\"|\"bmx\"|\"freestyle\"|\"bike\"|\"mtb\"|\"di...   141695     8091   \n",
      "\n",
      "   dislikes_1  ...  tags_2 views_2  likes_2  dislikes_2  comment_count_2  \\\n",
      "0        1108  ...     NaN     NaN      NaN         NaN              NaN   \n",
      "1         576  ...     NaN     NaN      NaN         NaN              NaN   \n",
      "2         477  ...     NaN     NaN      NaN         NaN              NaN   \n",
      "3         550  ...     NaN     NaN      NaN         NaN              NaN   \n",
      "4          72  ...     NaN     NaN      NaN         NaN              NaN   \n",
      "\n",
      "  thumbnail_link_2 comments_disabled_2 ratings_disabled_2  \\\n",
      "0              NaN                 NaN                NaN   \n",
      "1              NaN                 NaN                NaN   \n",
      "2              NaN                 NaN                NaN   \n",
      "3              NaN                 NaN                NaN   \n",
      "4              NaN                 NaN                NaN   \n",
      "\n",
      "  video_error_or_removed_2  description_2  \n",
      "0                      NaN            NaN  \n",
      "1                      NaN            NaN  \n",
      "2                      NaN            NaN  \n",
      "3                      NaN            NaN  \n",
      "4                      NaN            NaN  \n",
      "\n",
      "[5 rows x 31 columns]\n",
      "(55738, 31)\n",
      "<class 'pandas.core.frame.DataFrame'>\n",
      "Int64Index: 55738 entries, 0 to 55737\n",
      "Data columns (total 31 columns):\n",
      " #   Column                    Non-Null Count  Dtype  \n",
      "---  ------                    --------------  -----  \n",
      " 0   video_id                  55738 non-null  object \n",
      " 1   trending_date_1           55738 non-null  object \n",
      " 2   title_1                   55738 non-null  object \n",
      " 3   channel_title_1           55738 non-null  object \n",
      " 4   category_id_1             55738 non-null  int64  \n",
      " 5   publish_time_1            55738 non-null  object \n",
      " 6   tags_1                    55738 non-null  object \n",
      " 7   views_1                   55738 non-null  int64  \n",
      " 8   likes_1                   55738 non-null  int64  \n",
      " 9   dislikes_1                55738 non-null  int64  \n",
      " 10  comment_count_1           55738 non-null  int64  \n",
      " 11  thumbnail_link_1          55738 non-null  object \n",
      " 12  comments_disabled_1       55738 non-null  bool   \n",
      " 13  ratings_disabled_1        55738 non-null  bool   \n",
      " 14  video_error_or_removed_1  55738 non-null  bool   \n",
      " 15  description_1             52702 non-null  object \n",
      " 16  trending_date_2           15838 non-null  object \n",
      " 17  title_2                   15838 non-null  object \n",
      " 18  channel_title_2           15838 non-null  object \n",
      " 19  category_id_2             15838 non-null  float64\n",
      " 20  publish_time_2            15838 non-null  object \n",
      " 21  tags_2                    15838 non-null  object \n",
      " 22  views_2                   15838 non-null  float64\n",
      " 23  likes_2                   15838 non-null  float64\n",
      " 24  dislikes_2                15838 non-null  float64\n",
      " 25  comment_count_2           15838 non-null  float64\n",
      " 26  thumbnail_link_2          15838 non-null  object \n",
      " 27  comments_disabled_2       15838 non-null  object \n",
      " 28  ratings_disabled_2        15838 non-null  object \n",
      " 29  video_error_or_removed_2  15838 non-null  object \n",
      " 30  description_2             15726 non-null  object \n",
      "dtypes: bool(3), float64(5), int64(5), object(18)\n",
      "memory usage: 12.5+ MB\n",
      "None\n"
     ]
    }
   ],
   "source": [
    "#Merge the data frames using left joins\n",
    "VIDEO_1_2_Ou = VIDEO_1.merge(VIDEO_2, how=\"left\", on=\"video_id\", suffixes=(\"_1\", \"_2\"))\n",
    "print(VIDEO_1_2_Ou.head())\n",
    "print(VIDEO_1_2_Ou.shape)\n",
    "print(VIDEO_1_2_Ou.info())"
   ]
  },
  {
   "cell_type": "code",
   "execution_count": 8,
   "metadata": {},
   "outputs": [
    {
     "name": "stdout",
     "output_type": "stream",
     "text": [
      "      video_id trending_date  \\\n",
      "0  Ro6eob0LrCY      17.14.11   \n",
      "1  Yo84eqYwP98      17.14.11   \n",
      "2  ceqntSXE-10      17.14.11   \n",
      "3  WuTFI5qftCE      17.14.11   \n",
      "4  ee6OFs8TdEg      17.14.11   \n",
      "\n",
      "                                               title        channel_title  \\\n",
      "0           Malika LePen : Femme de Gauche - Trailer  Le Raptor Dissident   \n",
      "1  LA PIRE PARTIE ft Le Rire Jaune, Pierre Croce,...              Le Labo   \n",
      "2  DESSINS ANIMÉS FRANÇAIS VS RUSSES 2 - Daniil...      Daniil le Russe   \n",
      "3                    PAPY GRENIER - METAL GEAR SOLID    Joueur Du Grenier   \n",
      "4  QUI SAUTERA LE PLUS HAUT ? (VÉLO SKATE ROLLER ...    Aurelien Fontenoy   \n",
      "\n",
      "   category_id              publish_time  \\\n",
      "0           24  2017-11-13T17:32:55.000Z   \n",
      "1           24  2017-11-12T15:00:02.000Z   \n",
      "2           23  2017-11-13T17:00:38.000Z   \n",
      "3           20  2017-11-12T17:00:02.000Z   \n",
      "4           17  2017-11-13T16:30:03.000Z   \n",
      "\n",
      "                                                tags   views  likes  dislikes  \\\n",
      "0  Raptor\"|\"Dissident\"|\"Expliquez\"|\"moi\"|\"cette\"|...  212702  29282      1108   \n",
      "1                                             [none]  432721  14053       576   \n",
      "2      cartoon\"|\"pokémon\"|\"école\"|\"ours\"|\"мультфильм  482153  76203       477   \n",
      "3  Papy grenier\"|\"Metal Gear Solid\"|\"PS1\"|\"Tirage...  925222  85016       550   \n",
      "4  vélo\"|\"vtt\"|\"bmx\"|\"freestyle\"|\"bike\"|\"mtb\"|\"di...  141695   8091        72   \n",
      "\n",
      "   comment_count                                  thumbnail_link  \\\n",
      "0           3817  https://i.ytimg.com/vi/Ro6eob0LrCY/default.jpg   \n",
      "1           1161  https://i.ytimg.com/vi/Yo84eqYwP98/default.jpg   \n",
      "2           9580  https://i.ytimg.com/vi/ceqntSXE-10/default.jpg   \n",
      "3           4303  https://i.ytimg.com/vi/WuTFI5qftCE/default.jpg   \n",
      "4            481  https://i.ytimg.com/vi/ee6OFs8TdEg/default.jpg   \n",
      "\n",
      "   comments_disabled  ratings_disabled  video_error_or_removed  \\\n",
      "0              False             False                   False   \n",
      "1              False             False                   False   \n",
      "2              False             False                   False   \n",
      "3              False             False                   False   \n",
      "4              False             False                   False   \n",
      "\n",
      "                                         description  \n",
      "0  Dimanche.\\n18h30.\\nSoyez présents pour la vidé...  \n",
      "1  Le jeu de société: https://goo.gl/hhG1Ta\\n\\nGa...  \n",
      "2  Une nouvelle dose de dessins animés français e...  \n",
      "3  Nouvel ,épisode de Papy Grenier ! Ce mois-ci o...  \n",
      "4  Sauts à plus de 4 mètres de haut dans un tramp...  \n",
      "<class 'pandas.core.frame.DataFrame'>\n",
      "RangeIndex: 40724 entries, 0 to 40723\n",
      "Data columns (total 16 columns):\n",
      " #   Column                  Non-Null Count  Dtype \n",
      "---  ------                  --------------  ----- \n",
      " 0   video_id                40724 non-null  object\n",
      " 1   trending_date           40724 non-null  object\n",
      " 2   title                   40724 non-null  object\n",
      " 3   channel_title           40724 non-null  object\n",
      " 4   category_id             40724 non-null  int64 \n",
      " 5   publish_time            40724 non-null  object\n",
      " 6   tags                    40724 non-null  object\n",
      " 7   views                   40724 non-null  int64 \n",
      " 8   likes                   40724 non-null  int64 \n",
      " 9   dislikes                40724 non-null  int64 \n",
      " 10  comment_count           40724 non-null  int64 \n",
      " 11  thumbnail_link          40724 non-null  object\n",
      " 12  comments_disabled       40724 non-null  bool  \n",
      " 13  ratings_disabled        40724 non-null  bool  \n",
      " 14  video_error_or_removed  40724 non-null  bool  \n",
      " 15  description             37812 non-null  object\n",
      "dtypes: bool(3), int64(5), object(8)\n",
      "memory usage: 4.2+ MB\n",
      "None\n"
     ]
    },
    {
     "data": {
      "text/html": [
       "<div>\n",
       "<style scoped>\n",
       "    .dataframe tbody tr th:only-of-type {\n",
       "        vertical-align: middle;\n",
       "    }\n",
       "\n",
       "    .dataframe tbody tr th {\n",
       "        vertical-align: top;\n",
       "    }\n",
       "\n",
       "    .dataframe thead th {\n",
       "        text-align: right;\n",
       "    }\n",
       "</style>\n",
       "<table border=\"1\" class=\"dataframe\">\n",
       "  <thead>\n",
       "    <tr style=\"text-align: right;\">\n",
       "      <th></th>\n",
       "      <th>category_id</th>\n",
       "      <th>views</th>\n",
       "      <th>likes</th>\n",
       "      <th>dislikes</th>\n",
       "      <th>comment_count</th>\n",
       "    </tr>\n",
       "  </thead>\n",
       "  <tbody>\n",
       "    <tr>\n",
       "      <th>count</th>\n",
       "      <td>40724.000000</td>\n",
       "      <td>4.072400e+04</td>\n",
       "      <td>4.072400e+04</td>\n",
       "      <td>4.072400e+04</td>\n",
       "      <td>4.072400e+04</td>\n",
       "    </tr>\n",
       "    <tr>\n",
       "      <th>mean</th>\n",
       "      <td>20.123809</td>\n",
       "      <td>4.199219e+05</td>\n",
       "      <td>1.738886e+04</td>\n",
       "      <td>8.149624e+02</td>\n",
       "      <td>1.832453e+03</td>\n",
       "    </tr>\n",
       "    <tr>\n",
       "      <th>std</th>\n",
       "      <td>6.984422</td>\n",
       "      <td>1.772130e+06</td>\n",
       "      <td>8.720509e+04</td>\n",
       "      <td>1.139219e+04</td>\n",
       "      <td>1.404321e+04</td>\n",
       "    </tr>\n",
       "    <tr>\n",
       "      <th>min</th>\n",
       "      <td>1.000000</td>\n",
       "      <td>2.230000e+02</td>\n",
       "      <td>0.000000e+00</td>\n",
       "      <td>0.000000e+00</td>\n",
       "      <td>0.000000e+00</td>\n",
       "    </tr>\n",
       "    <tr>\n",
       "      <th>25%</th>\n",
       "      <td>17.000000</td>\n",
       "      <td>1.697450e+04</td>\n",
       "      <td>3.380000e+02</td>\n",
       "      <td>1.800000e+01</td>\n",
       "      <td>5.600000e+01</td>\n",
       "    </tr>\n",
       "    <tr>\n",
       "      <th>50%</th>\n",
       "      <td>23.000000</td>\n",
       "      <td>7.372100e+04</td>\n",
       "      <td>1.892500e+03</td>\n",
       "      <td>8.300000e+01</td>\n",
       "      <td>2.350000e+02</td>\n",
       "    </tr>\n",
       "    <tr>\n",
       "      <th>75%</th>\n",
       "      <td>24.000000</td>\n",
       "      <td>2.708088e+05</td>\n",
       "      <td>7.969500e+03</td>\n",
       "      <td>3.350000e+02</td>\n",
       "      <td>8.410000e+02</td>\n",
       "    </tr>\n",
       "    <tr>\n",
       "      <th>max</th>\n",
       "      <td>44.000000</td>\n",
       "      <td>1.009116e+08</td>\n",
       "      <td>4.750254e+06</td>\n",
       "      <td>1.353661e+06</td>\n",
       "      <td>1.040912e+06</td>\n",
       "    </tr>\n",
       "  </tbody>\n",
       "</table>\n",
       "</div>"
      ],
      "text/plain": [
       "        category_id         views         likes      dislikes  comment_count\n",
       "count  40724.000000  4.072400e+04  4.072400e+04  4.072400e+04   4.072400e+04\n",
       "mean      20.123809  4.199219e+05  1.738886e+04  8.149624e+02   1.832453e+03\n",
       "std        6.984422  1.772130e+06  8.720509e+04  1.139219e+04   1.404321e+04\n",
       "min        1.000000  2.230000e+02  0.000000e+00  0.000000e+00   0.000000e+00\n",
       "25%       17.000000  1.697450e+04  3.380000e+02  1.800000e+01   5.600000e+01\n",
       "50%       23.000000  7.372100e+04  1.892500e+03  8.300000e+01   2.350000e+02\n",
       "75%       24.000000  2.708088e+05  7.969500e+03  3.350000e+02   8.410000e+02\n",
       "max       44.000000  1.009116e+08  4.750254e+06  1.353661e+06   1.040912e+06"
      ]
     },
     "execution_count": 8,
     "metadata": {},
     "output_type": "execute_result"
    }
   ],
   "source": [
    "#Import Pandas \n",
    "import pandas as pd\n",
    "#Import the data frame\n",
    "France_Videos = pd.read_csv(r\"C:\\Users\\Yosef\\OneDrive - cumc.columbia.edu\\Desktop\\DATA\\FRvideos.csv\")\n",
    "print(France_Videos.head())\n",
    "print(France_Videos.info())\n",
    "#Generate the Statistical Summary using describe\n",
    "France_Videos.describe()"
   ]
  },
  {
   "cell_type": "code",
   "execution_count": 14,
   "metadata": {},
   "outputs": [
    {
     "name": "stdout",
     "output_type": "stream",
     "text": [
      "419921.8506040664\n",
      "73721.0\n",
      "223\n",
      "100911567\n"
     ]
    }
   ],
   "source": [
    "print(France_Videos[\"views\"].mean())\n",
    "\n",
    "print(France_Videos[\"views\"].median())\n",
    "\n",
    "print(France_Videos[\"views\"].min())\n",
    "\n",
    "print(France_Videos[\"views\"].max())"
   ]
  },
  {
   "cell_type": "code",
   "execution_count": null,
   "metadata": {},
   "outputs": [],
   "source": []
  },
  {
   "cell_type": "code",
   "execution_count": 7,
   "metadata": {},
   "outputs": [
    {
     "name": "stdout",
     "output_type": "stream",
     "text": [
      "<class 'pandas.core.frame.DataFrame'>\n",
      "RangeIndex: 38916 entries, 0 to 38915\n",
      "Data columns (total 16 columns):\n",
      " #   Column                  Non-Null Count  Dtype \n",
      "---  ------                  --------------  ----- \n",
      " 0   video_id                38916 non-null  object\n",
      " 1   trending_date           38916 non-null  object\n",
      " 2   title                   38916 non-null  object\n",
      " 3   channel_title           38916 non-null  object\n",
      " 4   category_id             38916 non-null  int64 \n",
      " 5   publish_time            38916 non-null  object\n",
      " 6   tags                    38916 non-null  object\n",
      " 7   views                   38916 non-null  int64 \n",
      " 8   likes                   38916 non-null  int64 \n",
      " 9   dislikes                38916 non-null  int64 \n",
      " 10  comment_count           38916 non-null  int64 \n",
      " 11  thumbnail_link          38916 non-null  object\n",
      " 12  comments_disabled       38916 non-null  bool  \n",
      " 13  ratings_disabled        38916 non-null  bool  \n",
      " 14  video_error_or_removed  38916 non-null  bool  \n",
      " 15  description             38304 non-null  object\n",
      "dtypes: bool(3), int64(5), object(8)\n",
      "memory usage: 4.0+ MB\n",
      "None\n"
     ]
    }
   ],
   "source": [
    "#Import Pandas\n",
    "import pandas as pd\n",
    "#Import the dataset as UK_VIWS\n",
    "UK_VIEWS = pd.read_csv(r\"C:\\Users\\Yosef\\OneDrive - cumc.columbia.edu\\Desktop\\DATA\\GBvideos.csv\")\n",
    "#Check whether missing value is available or not using .info()\n",
    "print(UK_VIEWS.info())\n"
   ]
  },
  {
   "cell_type": "code",
   "execution_count": null,
   "metadata": {},
   "outputs": [],
   "source": []
  },
  {
   "cell_type": "code",
   "execution_count": 3,
   "metadata": {},
   "outputs": [
    {
     "data": {
      "text/plain": [
       "video_id                  False\n",
       "trending_date             False\n",
       "title                     False\n",
       "channel_title             False\n",
       "category_id               False\n",
       "publish_time              False\n",
       "tags                      False\n",
       "views                     False\n",
       "likes                     False\n",
       "dislikes                  False\n",
       "comment_count             False\n",
       "thumbnail_link            False\n",
       "comments_disabled         False\n",
       "ratings_disabled          False\n",
       "video_error_or_removed    False\n",
       "description                True\n",
       "dtype: bool"
      ]
     },
     "execution_count": 3,
     "metadata": {},
     "output_type": "execute_result"
    }
   ],
   "source": [
    "#Show Missing Values\n",
    "UK_VIEWS.isna().any()"
   ]
  },
  {
   "cell_type": "code",
   "execution_count": 4,
   "metadata": {},
   "outputs": [
    {
     "data": {
      "text/plain": [
       "video_id                    0\n",
       "trending_date               0\n",
       "title                       0\n",
       "channel_title               0\n",
       "category_id                 0\n",
       "publish_time                0\n",
       "tags                        0\n",
       "views                       0\n",
       "likes                       0\n",
       "dislikes                    0\n",
       "comment_count               0\n",
       "thumbnail_link              0\n",
       "comments_disabled           0\n",
       "ratings_disabled            0\n",
       "video_error_or_removed      0\n",
       "description               612\n",
       "dtype: int64"
      ]
     },
     "execution_count": 4,
     "metadata": {},
     "output_type": "execute_result"
    }
   ],
   "source": [
    "#Count missing values in the dataset\n",
    "UK_VIEWS.isna().sum()\n"
   ]
  },
  {
   "cell_type": "code",
   "execution_count": 5,
   "metadata": {},
   "outputs": [
    {
     "data": {
      "text/plain": [
       "video_id                  0\n",
       "trending_date             0\n",
       "title                     0\n",
       "channel_title             0\n",
       "category_id               0\n",
       "publish_time              0\n",
       "tags                      0\n",
       "views                     0\n",
       "likes                     0\n",
       "dislikes                  0\n",
       "comment_count             0\n",
       "thumbnail_link            0\n",
       "comments_disabled         0\n",
       "ratings_disabled          0\n",
       "video_error_or_removed    0\n",
       "description               0\n",
       "dtype: int64"
      ]
     },
     "execution_count": 5,
     "metadata": {},
     "output_type": "execute_result"
    }
   ],
   "source": [
    "#Drop Missing Values from UK_VIEWS and Save as UK_VIEWS_1\n",
    "UK_VIEWS_1 = UK_VIEWS.dropna()\n",
    "#Check wheter missing values were dropped or not\n",
    "UK_VIEWS_1.isna().sum()"
   ]
  },
  {
   "cell_type": "code",
   "execution_count": 6,
   "metadata": {},
   "outputs": [
    {
     "data": {
      "text/plain": [
       "video_id                  0\n",
       "trending_date             0\n",
       "title                     0\n",
       "channel_title             0\n",
       "category_id               0\n",
       "publish_time              0\n",
       "tags                      0\n",
       "views                     0\n",
       "likes                     0\n",
       "dislikes                  0\n",
       "comment_count             0\n",
       "thumbnail_link            0\n",
       "comments_disabled         0\n",
       "ratings_disabled          0\n",
       "video_error_or_removed    0\n",
       "description               0\n",
       "dtype: int64"
      ]
     },
     "execution_count": 6,
     "metadata": {},
     "output_type": "execute_result"
    }
   ],
   "source": [
    "#Replace Missing Values with \"Not Described\" and save as UK_VIEWS_2\n",
    "UK_VIEWS_2 = UK_VIEWS.fillna(\"Not Described\")\n",
    "#Check wheter missing values were replaced or not\n",
    "UK_VIEWS_2.isna().sum()"
   ]
  },
  {
   "cell_type": "code",
   "execution_count": null,
   "metadata": {},
   "outputs": [],
   "source": []
  }
 ],
 "metadata": {
  "kernelspec": {
   "display_name": "Python 3",
   "language": "python",
   "name": "python3"
  },
  "language_info": {
   "codemirror_mode": {
    "name": "ipython",
    "version": 3
   },
   "file_extension": ".py",
   "mimetype": "text/x-python",
   "name": "python",
   "nbconvert_exporter": "python",
   "pygments_lexer": "ipython3",
   "version": "3.8.5"
  }
 },
 "nbformat": 4,
 "nbformat_minor": 4
}
